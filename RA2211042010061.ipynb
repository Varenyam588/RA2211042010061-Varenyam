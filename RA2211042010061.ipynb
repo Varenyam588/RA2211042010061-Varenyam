{
  "nbformat": 4,
  "nbformat_minor": 0,
  "metadata": {
    "colab": {
      "provenance": [],
      "authorship_tag": "ABX9TyNgDCSXgHsdbrp3ZlH7tE6k",
      "include_colab_link": true
    },
    "kernelspec": {
      "name": "python3",
      "display_name": "Python 3"
    },
    "language_info": {
      "name": "python"
    }
  },
  "cells": [
    {
      "cell_type": "markdown",
      "metadata": {
        "id": "view-in-github",
        "colab_type": "text"
      },
      "source": [
        "<a href=\"https://colab.research.google.com/github/Varenyam588/RA2211042010061-Varenyam/blob/main/RA2211042010061.ipynb\" target=\"_parent\"><img src=\"https://colab.research.google.com/assets/colab-badge.svg\" alt=\"Open In Colab\"/></a>"
      ]
    },
    {
      "cell_type": "code",
      "execution_count": 2,
      "metadata": {
        "colab": {
          "base_uri": "https://localhost:8080/"
        },
        "id": "w6GrfbwRHeMt",
        "outputId": "e520efc5-0c0f-415a-d18e-04de245c83fe"
      },
      "outputs": [
        {
          "output_type": "stream",
          "name": "stdout",
          "text": [
            "Hello World!\n"
          ]
        }
      ],
      "source": [
        "print(\"Hello World!\")\n"
      ]
    },
    {
      "cell_type": "code",
      "source": [
        "1+3"
      ],
      "metadata": {
        "colab": {
          "base_uri": "https://localhost:8080/"
        },
        "id": "T272uZv-LWx6",
        "outputId": "9a05917a-554c-429b-d944-3b66e5aba192"
      },
      "execution_count": 6,
      "outputs": [
        {
          "output_type": "execute_result",
          "data": {
            "text/plain": [
              "4"
            ]
          },
          "metadata": {},
          "execution_count": 6
        }
      ]
    },
    {
      "cell_type": "code",
      "source": [
        "3456*1234"
      ],
      "metadata": {
        "colab": {
          "base_uri": "https://localhost:8080/"
        },
        "id": "xoH_TRtuLhCW",
        "outputId": "9f77e9be-ead7-42f2-af50-1db0259caa38"
      },
      "execution_count": 4,
      "outputs": [
        {
          "output_type": "execute_result",
          "data": {
            "text/plain": [
              "4264704"
            ]
          },
          "metadata": {},
          "execution_count": 4
        }
      ]
    },
    {
      "cell_type": "code",
      "source": [
        "12345%25"
      ],
      "metadata": {
        "colab": {
          "base_uri": "https://localhost:8080/"
        },
        "id": "SjO1iiFJMk2e",
        "outputId": "93fa1abc-c084-4cfc-d906-47ac634ee835"
      },
      "execution_count": 5,
      "outputs": [
        {
          "output_type": "execute_result",
          "data": {
            "text/plain": [
              "20"
            ]
          },
          "metadata": {},
          "execution_count": 5
        }
      ]
    },
    {
      "cell_type": "code",
      "source": [
        "num1 = 45\n",
        "num2 = 55\n",
        "sum = num1 + num2\n",
        "print('the sum of {0} and {1} is {2}'.format(num1, num2, sum))"
      ],
      "metadata": {
        "colab": {
          "base_uri": "https://localhost:8080/"
        },
        "id": "TfJ8myyNMuW9",
        "outputId": "d19bb682-cbe0-4dab-be0a-9a740dc56e98"
      },
      "execution_count": 10,
      "outputs": [
        {
          "output_type": "stream",
          "name": "stdout",
          "text": [
            "the sum of 45 and 55 is 100\n"
          ]
        }
      ]
    },
    {
      "cell_type": "code",
      "source": [
        "num1 = 144\n",
        "num2 = 12\n",
        "product = num1 * num2\n",
        "print('the product of {0} and {1} is {2}'.format(num1, num2, product))"
      ],
      "metadata": {
        "colab": {
          "base_uri": "https://localhost:8080/"
        },
        "id": "r0a2nsEqN8KG",
        "outputId": "76fb320d-9a4e-4150-e8fa-5dffbd162408"
      },
      "execution_count": 12,
      "outputs": [
        {
          "output_type": "stream",
          "name": "stdout",
          "text": [
            "the product of 144 and 12 is 1728\n"
          ]
        }
      ]
    },
    {
      "cell_type": "code",
      "source": [
        "x = 144\n",
        "y = 12\n",
        "print(x / y)"
      ],
      "metadata": {
        "colab": {
          "base_uri": "https://localhost:8080/"
        },
        "id": "7fdCo3zGOwxy",
        "outputId": "5a246e54-8e1f-4d60-fc35-e3813f68fecb"
      },
      "execution_count": 25,
      "outputs": [
        {
          "metadata": {
            "tags": null
          },
          "name": "stdout",
          "output_type": "stream",
          "text": [
            "12.0\n"
          ]
        }
      ]
    },
    {
      "cell_type": "code",
      "source": [
        "x = 5\n",
        "y = 2\n",
        "print(x + y)"
      ],
      "metadata": {
        "colab": {
          "base_uri": "https://localhost:8080/"
        },
        "id": "JckTepTYTWtu",
        "outputId": "c6e809fb-edd9-4d18-a77d-32a15758b771"
      },
      "execution_count": 23,
      "outputs": [
        {
          "output_type": "stream",
          "name": "stdout",
          "text": [
            "7\n"
          ]
        }
      ]
    },
    {
      "cell_type": "code",
      "source": [
        "x=144\n",
        "y=12\n",
        "print(x-y)"
      ],
      "metadata": {
        "colab": {
          "base_uri": "https://localhost:8080/"
        },
        "id": "g_R-uAZOR2d4",
        "outputId": "2ac1cfe7-61ab-4430-e4c3-5196fcae496b"
      },
      "execution_count": 26,
      "outputs": [
        {
          "output_type": "stream",
          "name": "stdout",
          "text": [
            "132\n"
          ]
        }
      ]
    },
    {
      "cell_type": "code",
      "source": [
        "x = \"you\"\n",
        "y = \"are\"\n",
        "z = \"awesome\" \n",
        "print(x ,y ,z)"
      ],
      "metadata": {
        "colab": {
          "base_uri": "https://localhost:8080/"
        },
        "id": "lG8iggqmUr9q",
        "outputId": "7d453c3c-cc11-475f-c4d2-361ed04f1ea6"
      },
      "execution_count": 30,
      "outputs": [
        {
          "output_type": "stream",
          "name": "stdout",
          "text": [
            "you are awesome\n"
          ]
        }
      ]
    }
  ]
}